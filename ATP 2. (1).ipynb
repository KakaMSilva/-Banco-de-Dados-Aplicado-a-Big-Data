﻿{
  "metadata": {
    "name": "ATP 2",
    "kernelspec": {
      "language": "scala",
      "name": "spark2-scala"
    },
    "language_info": {
      "codemirror_mode": "text/x-scala",
      "file_extension": ".scala",
      "mimetype": "text/x-scala",
      "name": "scala",
      "pygments_lexer": "scala"
    }
  },
  "nbformat": 4,
  "nbformat_minor": 2,
  "cells": [
    {
      "cell_type": "code",
      "execution_count": 0,
      "metadata": {
        "autoscroll": "auto"
      },
      "outputs": [],
      "source": "import org.apache.spark.sql.SparkSession\r\nval spark \u003d SparkSession\r\n  .builder()\r\n  .getOrCreate()\r\nval sqlcontext \u003d spark.sqlContext\r\nsqlcontext"
    },
    {
      "cell_type": "code",
      "execution_count": 1,
      "metadata": {
        "autoscroll": "auto"
      },
      "outputs": [],
      "source": "val sqlcontext \u003d new org.apache.spark.sql.SQLContext(sc)"
    },
    {
      "cell_type": "code",
      "execution_count": 2,
      "metadata": {
        "autoscroll": "auto"
      },
      "outputs": [],
      "source": "val actorVar \u003d sqlcontext \r\n                .read \r\n                .option(\"header\",true) \r\n                .option(\"delimiter\",\";\") \r\n                .csv(\"file:/tmp/files/actor.csv\") \r\n                \r\nval addressVar \u003d sqlcontext \r\n                .read \r\n                .option(\"header\",true) \r\n                .option(\"delimiter\",\";\") \r\n                .csv(\"file:/tmp/files/address.csv\") \r\n                \r\nval categoryVar \u003d sqlcontext \r\n                .read \r\n                .option(\"header\",true) \r\n                .option(\"delimiter\",\";\") \r\n                .csv(\"file:/tmp/files/category.csv\")    \r\n                \r\nval cityVar \u003d sqlcontext \r\n                .read \r\n                .option(\"header\",true) \r\n                .option(\"delimiter\",\";\") \r\n                .csv(\"file:/tmp/files/city.csv\") \r\n                \r\nval countryVar \u003d sqlcontext \r\n                .read \r\n                .option(\"header\",true) \r\n                .option(\"delimiter\",\";\") \r\n                .csv(\"file:/tmp/files/country.csv\") \r\n\r\nval customerVar \u003d sqlcontext \r\n                .read \r\n                .option(\"header\",true) \r\n                .option(\"delimiter\",\";\") \r\n                .csv(\"file:/tmp/files/customer.csv\") \r\n\r\nval filmVar \u003d sqlcontext \r\n                .read \r\n                .option(\"header\",true) \r\n                .option(\"delimiter\",\";\") \r\n                .csv(\"file:/tmp/files/film.csv\") \r\n\r\nval film_actorVar \u003d sqlcontext \r\n                .read \r\n                .option(\"header\",true) \r\n                .option(\"delimiter\",\";\") \r\n                .csv(\"file:/tmp/files/film_actor.csv\")    \r\n                \r\nval film_categoryVar \u003d sqlcontext \r\n                .read \r\n                .option(\"header\",true) \r\n                .option(\"delimiter\",\";\") \r\n                .csv(\"file:/tmp/files/film_category.csv\") \r\n\r\nval inventoryVar \u003d sqlcontext \r\n                .read \r\n                .option(\"header\",true) \r\n                .option(\"delimiter\",\";\") \r\n                .csv(\"file:/tmp/files/inventory.csv\")         \r\n                \r\nval languageVar \u003d sqlcontext \r\n                .read \r\n                .option(\"header\",true) \r\n                .option(\"delimiter\",\";\") \r\n                .csv(\"file:/tmp/files/language.csv\") "
    },
    {
      "cell_type": "code",
      "execution_count": 3,
      "metadata": {
        "autoscroll": "auto"
      },
      "outputs": [],
      "source": "actorVar.createOrReplaceTempView(\"actorTB\")\naddressVar.createOrReplaceTempView(\"addressTB\")\ncategoryVar.createOrReplaceTempView(\"categoryTB\")\ncityVar.createOrReplaceTempView(\"cityTB\")\ncountryVar.createOrReplaceTempView(\"countryTB\")\ncustomerVar.createOrReplaceTempView(\"customerTB\")\nfilmVar.createOrReplaceTempView(\"filmTB\")\nfilm_actorVar.createOrReplaceTempView(\"film_actorTB\")\nfilm_categoryVar.createOrReplaceTempView(\"film_categoryTB\")\ninventoryVar.createOrReplaceTempView(\"inventoryTB\")\nlanguageVar.createOrReplaceTempView(\"languageTB\")"
    },
    {
      "cell_type": "code",
      "execution_count": 4,
      "metadata": {
        "autoscroll": "auto"
      },
      "outputs": [],
      "source": "sqlcontext.sql(\"select * from actorTB\").show()\nsqlcontext.sql(\"select * from addressTB\").show()\nsqlcontext.sql(\"select * from categoryTB\").show()\nsqlcontext.sql(\"select * from cityTB\").show()\nsqlcontext.sql(\"select * from countryTB\").show()\nsqlcontext.sql(\"select * from customerTB\").show()\nsqlcontext.sql(\"select * from filmTB\").show()\nsqlcontext.sql(\"select * from film_actorTB\").show()\nsqlcontext.sql(\"select * from film_categoryTB\").show()\nsqlcontext.sql(\"select * from inventoryTB\").show()\nsqlcontext.sql(\"select * from languageTB\").show()"
    },
    {
      "cell_type": "code",
      "execution_count": 5,
      "metadata": {
        "autoscroll": "auto"
      },
      "outputs": [],
      "source": "sqlcontext.sql(\"show tables\").show();"
    },
    {
      "cell_type": "code",
      "execution_count": 6,
      "metadata": {
        "autoscroll": "auto"
      },
      "outputs": [],
      "source": "%spark.sql\nselect * from actortb;"
    },
    {
      "cell_type": "code",
      "execution_count": 7,
      "metadata": {
        "autoscroll": "auto"
      },
      "outputs": [],
      "source": "actorVar.printSchema()\naddressVar.printSchema()\ncategoryVar.printSchema()\ncityVar.printSchema()\ncountryVar.printSchema()\ncustomerVar.printSchema()\nfilmVar.printSchema()\nfilm_actorVar.printSchema()\nfilm_categoryVar.printSchema()\ninventoryVar.printSchema()\nlanguageVar.printSchema()"
    },
    {
      "cell_type": "code",
      "execution_count": 8,
      "metadata": {
        "autoscroll": "auto"
      },
      "outputs": [],
      "source": "%spark.sql\r\nCREATE TABLE ActorVar (\r\n   actor_id BIGINT,\r\n   first_name STRING,\r\n   last_name STRING,\r\n   last_update STRING\r\n) USING orc"
    },
    {
      "cell_type": "code",
      "execution_count": 9,
      "metadata": {
        "autoscroll": "auto"
      },
      "outputs": [],
      "source": "%spark.sql\nCREATE TABLE AddressVar (\n   address_id BIGINT,\n   address STRING,\n   address2 STRING,\n   district STRING,\n   city_id BIGINT,\n   postal_code STRING,\n   phone STRING,\n   location STRING,\n   last_update STRING\n) USING orc"
    },
    {
      "cell_type": "code",
      "execution_count": 10,
      "metadata": {
        "autoscroll": "auto"
      },
      "outputs": [],
      "source": "%spark.sql\nCREATE TABLE CategoryVar (\n   category_id BIGINT,\n   name  STRING,\n   last_update  STRING\n) USING orc"
    },
    {
      "cell_type": "code",
      "execution_count": 11,
      "metadata": {
        "autoscroll": "auto"
      },
      "outputs": [],
      "source": "%spark.sql\nCREATE TABLE CityVar (\n   city_id BIGINT,\n   city STRING,\n   country_id BIGINT,\n   last_update STRING\n) USING orc"
    },
    {
      "cell_type": "code",
      "execution_count": 12,
      "metadata": {
        "autoscroll": "auto"
      },
      "outputs": [],
      "source": "%spark.sql\nCREATE TABLE countryVar (\n   country_id BIGINT,\n   country STRING,\n   last_update STRING\n) USING orc"
    },
    {
      "cell_type": "code",
      "execution_count": 13,
      "metadata": {
        "autoscroll": "auto"
      },
      "outputs": [],
      "source": "%spark.sql\nCREATE TABLE CustomerVar (\n   customer_id BIGINT,\n   store_id BIGINT,\n   first_name STRING,\n   last_name STRING,\n   email STRING,\n   address_id BIGINT,\n   active STRING,\n   create_date STRING,\n   last_update STRING\n) USING orc"
    },
    {
      "cell_type": "code",
      "execution_count": 14,
      "metadata": {
        "autoscroll": "auto"
      },
      "outputs": [],
      "source": "%spark.sql\nCREATE TABLE FilmVar (\n   film_id BIGINT,\n   title STRING,\n   description STRING,\n   release_year STRING,\n   language_id BIGINT,\n   original_language_id BIGINT,\n   rental_duration STRING,\n   rental_rate STRING,\n   length STRING,\n   replacement_cost STRING,\n   rating STRING,\n   special_features STRING,\n   last_update STRING\n) USING orc"
    },
    {
      "cell_type": "code",
      "execution_count": 15,
      "metadata": {
        "autoscroll": "auto"
      },
      "outputs": [],
      "source": "%spark.sql\nCREATE TABLE Film_actorVar (\n   actor_id BIGINT,\n   film_id BIGINT,\n   last_update STRING\n) USING orc"
    },
    {
      "cell_type": "code",
      "execution_count": 16,
      "metadata": {
        "autoscroll": "auto"
      },
      "outputs": [],
      "source": "%spark.sql\nCREATE TABLE Film_categoryVar (\n   film_id BIGINT,\n   category_id BIGINT,\n   last_update STRING\n) USING orc\n"
    },
    {
      "cell_type": "code",
      "execution_count": 17,
      "metadata": {
        "autoscroll": "auto"
      },
      "outputs": [],
      "source": "%spark.sql\nCREATE TABLE InventoryVar (\n   inventory_id BIGINT,\n   film_id BIGINT,\n   store_id BIGINT,\n   last_update STRING\n) USING orc"
    },
    {
      "cell_type": "code",
      "execution_count": 18,
      "metadata": {
        "autoscroll": "auto"
      },
      "outputs": [],
      "source": "%spark.sql\nCREATE TABLE LanguageVar (\n   language_id BIGINT,\n   name STRING,\n   last_update STRING\n) USING orc"
    },
    {
      "cell_type": "code",
      "execution_count": 19,
      "metadata": {
        "autoscroll": "auto"
      },
      "outputs": [],
      "source": "sqlcontext.sql(\"insert into ActorVar select * from actorTB\"); \nsqlcontext.sql(\"insert into AddressVar select * from addressTB\"); \nsqlcontext.sql(\"insert into CategoryVar select * from categoryTB\"); \nsqlcontext.sql(\"insert into CityVar select * from cityTB\"); \nsqlcontext.sql(\"insert into CountryVar select * from countryTB\"); \nsqlcontext.sql(\"insert into CustomerVar select * from customerTB\"); \nsqlcontext.sql(\"insert into FilmVar select * from filmTB\"); \nsqlcontext.sql(\"insert into Film_actorVar select * from film_actorTB\"); \nsqlcontext.sql(\"insert into Film_categoryVar select * from film_categoryTB\"); \nsqlcontext.sql(\"insert into InventoryVar select * from inventoryTB\"); \nsqlcontext.sql(\"insert into LanguageVar select * from languageTB\"); "
    },
    {
      "cell_type": "code",
      "execution_count": 20,
      "metadata": {
        "autoscroll": "auto"
      },
      "outputs": [],
      "source": "%spark.sql\nselect * from FilmVar limit 10 "
    },
    {
      "cell_type": "code",
      "execution_count": 21,
      "metadata": {
        "autoscroll": "auto"
      },
      "outputs": [],
      "source": "%spark.sql\r\nselect language_id, count(*) as Resultado from FilmVar \r\nGROUP BY language_id"
    },
    {
      "cell_type": "code",
      "execution_count": 22,
      "metadata": {
        "autoscroll": "auto"
      },
      "outputs": [],
      "source": "%spark.sql\nselect FilmVar.title, LanguageVar.name \nfrom FilmVar join LanguageVar\non LanguageVar.language_id \u003d FilmVar.language_id"
    },
    {
      "cell_type": "code",
      "execution_count": 23,
      "metadata": {
        "autoscroll": "auto"
      },
      "outputs": [],
      "source": "%spark.sql\nselect CustomerVar.first_name, CityVar.city from CustomerVar\njoin AddressVar on AddressVar.address_id \u003d CustomerVar.address_id\njoin CityVar on CityVar.city_id \u003d AddressVar.city_id\n"
    }
  ]
}